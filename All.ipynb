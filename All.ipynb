{
 "cells": [
  {
   "cell_type": "code",
   "execution_count": 72,
   "metadata": {},
   "outputs": [],
   "source": [
    "import numpy as np \n",
    "import pandas as pd"
   ]
  },
  {
   "cell_type": "code",
   "execution_count": 73,
   "metadata": {},
   "outputs": [],
   "source": [
    "colnames=['tanggal', 'komoditi', 'harga', 'b','c','d'] \n",
    "data_jan = pd.read_csv(\"1.csv\",names=colnames, skiprows=1)\n",
    "data_jan = data_jan.fillna(0)"
   ]
  },
  {
   "cell_type": "code",
   "execution_count": 74,
   "metadata": {},
   "outputs": [],
   "source": [
    "for x in range(0,len(data_jan)):\n",
    "    if type(data_jan.loc[x,'b'] ) == str:\n",
    "        if type(data_jan.loc[x,'c'] ) == str:\n",
    "            if data_jan.loc[x,'d'] != 0:\n",
    "                data_jan.loc[x,'komoditi'] = data_jan.loc[x,'komoditi'] + data_jan.loc[x,'harga'] + data_jan.loc[x,'b'] + data_jan.loc[x,'c']\n",
    "                data_jan.loc[x,'harga'] = data_jan.loc[x,'d'] \n",
    "            else:\n",
    "                data_jan.loc[x,'komoditi'] = data_jan.loc[x,'komoditi'] + data_jan.loc[x,'harga'] + data_jan.loc[x,'b']\n",
    "                data_jan.loc[x,'harga'] = data_jan.loc[x,'c'] \n",
    "        else:\n",
    "            data_jan.loc[x,'komoditi'] = data_jan.loc[x,'komoditi'] + data_jan.loc[x,'harga']\n",
    "            data_jan.loc[x,'harga'] = data_jan.loc[x,'b'] "
   ]
  },
  {
   "cell_type": "code",
   "execution_count": 75,
   "metadata": {},
   "outputs": [],
   "source": [
    "data_jan = data_jan[['tanggal', 'komoditi', 'harga']]\n",
    "data_jan['harga'] = data_jan['harga'].values.astype(int)"
   ]
  },
  {
   "cell_type": "code",
   "execution_count": 76,
   "metadata": {},
   "outputs": [],
   "source": [
    "pivot_jan = data_jan.pivot(index='tanggal', columns = 'komoditi', values = 'harga')"
   ]
  },
  {
   "cell_type": "code",
   "execution_count": 77,
   "metadata": {},
   "outputs": [],
   "source": [
    "colnames =['tanggal', 'komoditi','satuan', 'harga', 'a','b','c'] \n",
    "data_feb = pd.read_csv(\"2.csv\",names=colnames, skiprows=1)\n",
    "data_feb = data_feb.fillna(0)"
   ]
  },
  {
   "cell_type": "code",
   "execution_count": 78,
   "metadata": {},
   "outputs": [],
   "source": [
    "for x in range(0,len(data_feb)):\n",
    "    if type(data_feb.loc[x,'a'] ) == str:\n",
    "        if type(data_feb.loc[x,'b'] ) == str:\n",
    "            if data_feb.loc[x,'c'] != 0:\n",
    "                data_feb.loc[x,'komoditi'] = data_feb.loc[x,'komoditi'] + data_feb.loc[x,'satuan'] + data_feb.loc[x,'harga'] + data_feb.loc[x,'a']\n",
    "                data_feb.loc[x,'harga'] = data_feb.loc[x,'c'] \n",
    "            else:\n",
    "                data_feb.loc[x,'komoditi'] = data_feb.loc[x,'komoditi'] + data_feb.loc[x,'satuan'] + data_feb.loc[x,'harga']\n",
    "                data_feb.loc[x,'harga'] = data_feb.loc[x,'b'] \n",
    "        else:\n",
    "            data_feb.loc[x,'komoditi'] = data_feb.loc[x,'komoditi'] + data_feb.loc[x,'satuan']\n",
    "            data_feb.loc[x,'harga'] = data_feb.loc[x,'a'] "
   ]
  },
  {
   "cell_type": "code",
   "execution_count": 79,
   "metadata": {},
   "outputs": [],
   "source": [
    "data_feb = data_feb[['tanggal', 'komoditi', 'harga']]"
   ]
  },
  {
   "cell_type": "code",
   "execution_count": 80,
   "metadata": {},
   "outputs": [],
   "source": [
    "data_feb['harga'] = data_feb['harga'].values.astype(str)\n",
    "data_feb['harga'] = data_feb.harga.str.replace(\".\", \"\")"
   ]
  },
  {
   "cell_type": "code",
   "execution_count": 81,
   "metadata": {},
   "outputs": [],
   "source": [
    "data_feb['harga'] = data_feb['harga'].values.astype(int)"
   ]
  },
  {
   "cell_type": "code",
   "execution_count": 82,
   "metadata": {},
   "outputs": [],
   "source": [
    "pivot_feb = data_feb.pivot(index='tanggal', columns = 'komoditi', values = 'harga')"
   ]
  },
  {
   "cell_type": "code",
   "execution_count": 83,
   "metadata": {},
   "outputs": [],
   "source": [
    "colnames=['tanggal','komoditi','satuan', 'harga'] \n",
    "data_mar = pd.read_csv(\"3.csv\", names=colnames, skiprows=1)"
   ]
  },
  {
   "cell_type": "code",
   "execution_count": 84,
   "metadata": {},
   "outputs": [],
   "source": [
    "data_mar = data_mar[['tanggal', 'komoditi', 'harga']]"
   ]
  },
  {
   "cell_type": "code",
   "execution_count": 85,
   "metadata": {},
   "outputs": [],
   "source": [
    "data_mar['komoditi'] = data_mar.komoditi.str.replace(\",\", \"\")"
   ]
  },
  {
   "cell_type": "code",
   "execution_count": 86,
   "metadata": {},
   "outputs": [],
   "source": [
    "pivot_mar = data_mar.pivot(index='tanggal', columns = 'komoditi', values = 'harga')"
   ]
  },
  {
   "cell_type": "code",
   "execution_count": 87,
   "metadata": {},
   "outputs": [],
   "source": [
    "colnames=['tanggal','komoditi','satuan', 'harga'] \n",
    "data_apr = pd.read_csv(\"4.csv\", names=colnames, skiprows=1)"
   ]
  },
  {
   "cell_type": "code",
   "execution_count": 88,
   "metadata": {},
   "outputs": [],
   "source": [
    "data_apr = data_apr[['tanggal', 'komoditi', 'harga']]"
   ]
  },
  {
   "cell_type": "code",
   "execution_count": 89,
   "metadata": {},
   "outputs": [],
   "source": [
    "pivot_apr = data_apr.pivot(index='tanggal', columns = 'komoditi', values = 'harga')"
   ]
  },
  {
   "cell_type": "code",
   "execution_count": 90,
   "metadata": {},
   "outputs": [],
   "source": [
    "colnames=['tanggal', 'komoditi','satuan', 'harga', 'a','b','c'] \n",
    "data_mei = pd.read_csv(\"5.csv\",names=colnames, skiprows=1)\n",
    "data_mei = data_mei.fillna(0)"
   ]
  },
  {
   "cell_type": "code",
   "execution_count": 91,
   "metadata": {},
   "outputs": [],
   "source": [
    "for x in range(0,len(data_mei)):\n",
    "    if type(data_mei.loc[x,'a'] ) == str:\n",
    "        if type(data_mei.loc[x,'b'] ) == str:\n",
    "            if data_mei.loc[x,'c'] != 0:\n",
    "                data_mei.loc[x,'komoditi'] = data_mei.loc[x,'komoditi'] + data_mei.loc[x,'satuan'] + data_mei.loc[x,'harga'] + data_mei.loc[x,'a']\n",
    "                data_mei.loc[x,'harga'] = data_mei.loc[x,'c'] \n",
    "            else:\n",
    "                data_mei.loc[x,'komoditi'] = data_mei.loc[x,'komoditi'] + data_mei.loc[x,'satuan'] + data_mei.loc[x,'harga']\n",
    "                data_mei.loc[x,'harga'] = data_mei.loc[x,'b'] \n",
    "        else:\n",
    "            data_mei.loc[x,'komoditi'] = data_mei.loc[x,'komoditi'] + data_mei.loc[x,'satuan']\n",
    "            data_mei.loc[x,'harga'] = data_mei.loc[x,'a'] "
   ]
  },
  {
   "cell_type": "code",
   "execution_count": 92,
   "metadata": {},
   "outputs": [],
   "source": [
    "data_mei = data_mei[['tanggal', 'komoditi', 'harga']]"
   ]
  },
  {
   "cell_type": "code",
   "execution_count": 93,
   "metadata": {},
   "outputs": [],
   "source": [
    "data_mei['harga'] = data_mei['harga'].values.astype(int)"
   ]
  },
  {
   "cell_type": "code",
   "execution_count": 94,
   "metadata": {},
   "outputs": [],
   "source": [
    "pivot_mei = data_mei.pivot(index='tanggal', columns = 'komoditi', values = 'harga')"
   ]
  },
  {
   "cell_type": "code",
   "execution_count": 95,
   "metadata": {},
   "outputs": [],
   "source": [
    "colnames=['tanggal', 'komoditi','satuan', 'harga', 'a','b','c'] \n",
    "data_juni = pd.read_csv(\"6.csv\",names=colnames, skiprows=1)\n",
    "data_juni = data_juni.fillna(0)"
   ]
  },
  {
   "cell_type": "code",
   "execution_count": 96,
   "metadata": {},
   "outputs": [],
   "source": [
    "for x in range(0,len(data_juni)):\n",
    "    if type(data_juni.loc[x,'a'] ) == str:\n",
    "        if type(data_juni.loc[x,'b'] ) == str:\n",
    "            if data_juni.loc[x,'c'] != 0:\n",
    "                data_juni.loc[x,'komoditi'] = data_juni.loc[x,'komoditi'] + data_juni.loc[x,'satuan'] + data_juni.loc[x,'harga'] + data_juni.loc[x,'a']\n",
    "                data_juni.loc[x,'harga'] = data_juni.loc[x,'c'] \n",
    "            else:\n",
    "                data_juni.loc[x,'komoditi'] = data_juni.loc[x,'komoditi'] + data_juni.loc[x,'satuan'] + data_juni.loc[x,'harga']\n",
    "                data_juni.loc[x,'harga'] = data_juni.loc[x,'b'] \n",
    "        else:\n",
    "            data_juni.loc[x,'komoditi'] = data_juni.loc[x,'komoditi'] + data_juni.loc[x,'satuan']\n",
    "            data_juni.loc[x,'harga'] = data_juni.loc[x,'a'] "
   ]
  },
  {
   "cell_type": "code",
   "execution_count": 97,
   "metadata": {},
   "outputs": [],
   "source": [
    "data_juni = data_juni[['tanggal', 'komoditi', 'harga']]"
   ]
  },
  {
   "cell_type": "code",
   "execution_count": 98,
   "metadata": {},
   "outputs": [],
   "source": [
    "data_juni['harga'] = data_juni['harga'].values.astype(int)"
   ]
  },
  {
   "cell_type": "code",
   "execution_count": 99,
   "metadata": {},
   "outputs": [],
   "source": [
    "pivot_juni = data_juni.pivot(index='tanggal', columns = 'komoditi', values = 'harga')"
   ]
  },
  {
   "cell_type": "code",
   "execution_count": 100,
   "metadata": {},
   "outputs": [],
   "source": [
    "colnames=['tanggal','komoditi','satuan', 'harga'] \n",
    "data_juli = pd.read_csv(\"7.csv\", names=colnames, skiprows=1)"
   ]
  },
  {
   "cell_type": "code",
   "execution_count": 101,
   "metadata": {},
   "outputs": [],
   "source": [
    "data_juli = data_juli[['tanggal', 'komoditi', 'harga']]"
   ]
  },
  {
   "cell_type": "code",
   "execution_count": 102,
   "metadata": {},
   "outputs": [],
   "source": [
    "pivot_juli = data_juli.pivot(index='tanggal', columns = 'komoditi', values = 'harga')"
   ]
  },
  {
   "cell_type": "code",
   "execution_count": 103,
   "metadata": {},
   "outputs": [],
   "source": [
    "colnames=['tanggal','komoditi','satuan', 'harga'] \n",
    "data_agu = pd.read_csv(\"8.csv\", names=colnames, skiprows=1)"
   ]
  },
  {
   "cell_type": "code",
   "execution_count": 104,
   "metadata": {},
   "outputs": [],
   "source": [
    "data_agu = data_agu[['tanggal', 'komoditi', 'harga']]"
   ]
  },
  {
   "cell_type": "code",
   "execution_count": 105,
   "metadata": {},
   "outputs": [],
   "source": [
    "data_agu['komoditi'] = data_agu.komoditi.str.replace(',','')"
   ]
  },
  {
   "cell_type": "code",
   "execution_count": 106,
   "metadata": {},
   "outputs": [],
   "source": [
    "data_agu['harga'] = data_agu['harga'].values.astype(int)"
   ]
  },
  {
   "cell_type": "code",
   "execution_count": 107,
   "metadata": {},
   "outputs": [],
   "source": [
    "pivot_agu = data_agu.pivot(index='tanggal', columns = 'komoditi', values = 'harga')"
   ]
  },
  {
   "cell_type": "code",
   "execution_count": 108,
   "metadata": {},
   "outputs": [],
   "source": [
    "colnames=['tanggal','komoditi','satuan', 'harga'] \n",
    "data_sep = pd.read_csv(\"9.csv\", names=colnames, skiprows=1)"
   ]
  },
  {
   "cell_type": "code",
   "execution_count": 109,
   "metadata": {},
   "outputs": [],
   "source": [
    "data_sep = data_sep[['tanggal', 'komoditi', 'harga']]"
   ]
  },
  {
   "cell_type": "code",
   "execution_count": 110,
   "metadata": {},
   "outputs": [],
   "source": [
    "data_sep['komoditi'] = data_sep.komoditi.str.replace(',','')"
   ]
  },
  {
   "cell_type": "code",
   "execution_count": 111,
   "metadata": {},
   "outputs": [],
   "source": [
    "data_sep['harga'] = data_sep['harga'].values.astype(int)"
   ]
  },
  {
   "cell_type": "code",
   "execution_count": 112,
   "metadata": {},
   "outputs": [],
   "source": [
    "pivot_sep = data_sep.pivot(index='tanggal', columns = 'komoditi', values = 'harga')"
   ]
  },
  {
   "cell_type": "code",
   "execution_count": 113,
   "metadata": {},
   "outputs": [],
   "source": [
    "colnames=['tanggal','komoditi','satuan', 'harga'] \n",
    "data_okt = pd.read_csv(\"10.csv\", names=colnames, skiprows=1)"
   ]
  },
  {
   "cell_type": "code",
   "execution_count": 114,
   "metadata": {},
   "outputs": [],
   "source": [
    "data_okt = data_okt[['tanggal', 'komoditi', 'harga']]"
   ]
  },
  {
   "cell_type": "code",
   "execution_count": 115,
   "metadata": {},
   "outputs": [],
   "source": [
    "data_okt['komoditi'] = data_okt.komoditi.str.replace(',','')"
   ]
  },
  {
   "cell_type": "code",
   "execution_count": 116,
   "metadata": {},
   "outputs": [],
   "source": [
    "data_okt['harga'] = data_okt['harga'].values.astype(int)"
   ]
  },
  {
   "cell_type": "code",
   "execution_count": 117,
   "metadata": {},
   "outputs": [],
   "source": [
    "pivot_okt = data_okt.pivot(index='tanggal', columns = 'komoditi', values = 'harga')"
   ]
  },
  {
   "cell_type": "code",
   "execution_count": 118,
   "metadata": {},
   "outputs": [],
   "source": [
    "data_nov = pd.read_csv(\"11.csv\")\n",
    "                    #error_bad_lines=False)"
   ]
  },
  {
   "cell_type": "code",
   "execution_count": 119,
   "metadata": {},
   "outputs": [],
   "source": [
    "data_tanggal = []\n",
    "for x in range(0,len(data_nov)):\n",
    "    data_tanggal.append(\"%02d\" % data_nov.loc[x,'tanggal'])"
   ]
  },
  {
   "cell_type": "code",
   "execution_count": 120,
   "metadata": {},
   "outputs": [],
   "source": [
    "data_nov['tanggal'] = pd.Series(data_tanggal)"
   ]
  },
  {
   "cell_type": "code",
   "execution_count": 121,
   "metadata": {},
   "outputs": [],
   "source": [
    "data_nov['bulan'] = data_nov.bulan.str.replace(\"november\", \"11\")"
   ]
  },
  {
   "cell_type": "code",
   "execution_count": 122,
   "metadata": {},
   "outputs": [],
   "source": [
    "data_nov['tanggal'] = data_nov['tanggal'].apply(str)\n",
    "data_nov['tahun'] = data_nov['tahun'].apply(str)"
   ]
  },
  {
   "cell_type": "code",
   "execution_count": 123,
   "metadata": {},
   "outputs": [],
   "source": [
    "data_nov['tanggal'] = data_nov['tahun'].str.cat(data_nov['bulan'].str.cat(data_nov['tanggal'], sep=\"/\"), sep =\"/\")"
   ]
  },
  {
   "cell_type": "code",
   "execution_count": 124,
   "metadata": {},
   "outputs": [],
   "source": [
    "data_nov['komoditi'] = data_nov.komoditi.str.replace(\",\", \"\")\n",
    "data_nov['harga'] = data_nov.harga.str.replace(\",\", \"\")"
   ]
  },
  {
   "cell_type": "code",
   "execution_count": 125,
   "metadata": {},
   "outputs": [],
   "source": [
    "data_nov = data_nov[['tanggal', 'komoditi', 'harga']]"
   ]
  },
  {
   "cell_type": "code",
   "execution_count": 126,
   "metadata": {},
   "outputs": [],
   "source": [
    "data_nov['harga'] = data_nov['harga'].values.astype(int)"
   ]
  },
  {
   "cell_type": "code",
   "execution_count": 127,
   "metadata": {},
   "outputs": [],
   "source": [
    "pivot_nov = data_nov.pivot(index='tanggal', columns = 'komoditi', values = 'harga')"
   ]
  },
  {
   "cell_type": "code",
   "execution_count": 128,
   "metadata": {},
   "outputs": [],
   "source": [
    "colnames=['tanggal','bulan','tahun','komoditi','satuan', 'harga'] \n",
    "data_des = pd.read_csv(\"12.csv\",names=colnames, skiprows=1)"
   ]
  },
  {
   "cell_type": "code",
   "execution_count": 129,
   "metadata": {},
   "outputs": [],
   "source": [
    "data_des['tanggal'] = data_des['tanggal'].values.astype(int)\n",
    "data_des['tahun'] = data_des['tahun'].values.astype(int)\n",
    "data_des['harga'] = data_des['harga'].values.astype(int)"
   ]
  },
  {
   "cell_type": "code",
   "execution_count": 130,
   "metadata": {},
   "outputs": [],
   "source": [
    "data_tanggal = []\n",
    "for x in range(0,len(data_des)):\n",
    "    data_tanggal.append(\"%02d\" % data_des.loc[x,'tanggal'])"
   ]
  },
  {
   "cell_type": "code",
   "execution_count": 131,
   "metadata": {},
   "outputs": [],
   "source": [
    "data_des['tanggal'] = pd.Series(data_tanggal)"
   ]
  },
  {
   "cell_type": "code",
   "execution_count": 132,
   "metadata": {},
   "outputs": [],
   "source": [
    "data_des['bulan'] = data_des.bulan.str.replace(\"Desember\", \"12\")"
   ]
  },
  {
   "cell_type": "code",
   "execution_count": 133,
   "metadata": {},
   "outputs": [],
   "source": [
    "data_des['tanggal'] = data_des['tanggal'].apply(str)\n",
    "data_des['tahun'] = data_des['tahun'].apply(str)"
   ]
  },
  {
   "cell_type": "code",
   "execution_count": 134,
   "metadata": {},
   "outputs": [],
   "source": [
    "data_des['tanggal'] = data_des['tahun'].str.cat(data_des['bulan'].str.cat(data_des['tanggal'], sep=\"/\"), sep =\"/\")"
   ]
  },
  {
   "cell_type": "code",
   "execution_count": 135,
   "metadata": {},
   "outputs": [],
   "source": [
    "data_des['komoditi'] = data_des.komoditi.str.replace(\",\", \"\")"
   ]
  },
  {
   "cell_type": "code",
   "execution_count": 136,
   "metadata": {},
   "outputs": [],
   "source": [
    "data_des = data_des[['tanggal', 'komoditi', 'harga']]"
   ]
  },
  {
   "cell_type": "code",
   "execution_count": 137,
   "metadata": {},
   "outputs": [],
   "source": [
    "data_des = data_des[pd.notnull(data_des['komoditi'])]"
   ]
  },
  {
   "cell_type": "code",
   "execution_count": 138,
   "metadata": {},
   "outputs": [],
   "source": [
    "data_des['harga'] = data_des['harga'].values.astype(int)"
   ]
  },
  {
   "cell_type": "code",
   "execution_count": 139,
   "metadata": {},
   "outputs": [],
   "source": [
    "pivot_des = data_des.pivot(index='tanggal', columns = 'komoditi', values = 'harga')"
   ]
  },
  {
   "cell_type": "code",
   "execution_count": 140,
   "metadata": {},
   "outputs": [
    {
     "data": {
      "text/plain": [
       "Index(['Ayam Boiler', 'Ayam Kampung', 'Bawang Merah (Medium)',\n",
       "       'Daging Sapi Impor Beku', 'Daging Sapi Lokal Daging Has Luar (Sirloin)',\n",
       "       'Daging Sapi Lokal Daging Sandung Lamur (Brisket)',\n",
       "       'Daging Sapi Lokal Daging Tetelan', 'Daging Sapi Lokal Has Dalam',\n",
       "       'Daging Sapi Lokal Paha Belakang', 'Garam Beryodium Bata',\n",
       "       'Garam Beryodium Halus', 'Gula Pasir', 'Ikan Kembung', 'Ikan Teri Asin',\n",
       "       'Jagung Pipilan Kecil', 'Kacang Hijau', 'Kacang Kedelai Lokal',\n",
       "       'Kacang Tanah', 'Ketela Pohon', 'Minyak Goreng Bimoli Botol',\n",
       "       'Minyak Goreng Curah', 'Susu Bubuk Kaleng Merk Bendera',\n",
       "       'Susu Bubuk Kaleng Merk Indomilk',\n",
       "       'Susu Kental Manis Kaleng Merk Bendera',\n",
       "       'Susu Kental Manis Kaleng Merk Indomilk', 'Telur Ayam Kampung',\n",
       "       'Telur Ayam Ras', 'Tepung Terigu Segitiga Biru', 'Beras Medium',\n",
       "       'Bawang Putih Impor Honan', 'Bawang Putih Impor Kating',\n",
       "       'Indomie Rasa Kari Ayam', 'Cabai Merah Besar', 'Cabai Merah Kriting',\n",
       "       'Cabai Rawit Hijau', 'Cabai Rawit Merah', 'Kacang Kedelai Eks Impor'],\n",
       "      dtype='object', name='komoditi')"
      ]
     },
     "execution_count": 140,
     "metadata": {},
     "output_type": "execute_result"
    }
   ],
   "source": [
    "pivot_jan['Beras Medium'] = pivot_jan['Beras']\n",
    "pivot_jan['Bawang Putih Impor Honan'] = pivot_jan['Bawang Putih Impor (Honan)']\n",
    "pivot_jan['Bawang Putih Impor Kating'] = pivot_jan['Bawang Putih Impor (Kating)']\n",
    "pivot_jan['Indomie Rasa Kari Ayam'] = pivot_jan['Mie Instan Indomie Rasa Kari Ayam']\n",
    "pivot_jan['Cabai Merah Besar'] = pivot_jan['Cabe Merah Besar']\n",
    "pivot_jan['Cabai Merah Kriting'] = pivot_jan['Cabe Merah Keriting']\n",
    "pivot_jan['Cabai Rawit Hijau'] = pivot_jan['Cabe Rawit Hijau']\n",
    "pivot_jan['Cabai Rawit Merah'] = pivot_jan['Cabe Rawit Merah']\n",
    "pivot_jan['Kacang Kedelai Eks Impor'] = pivot_jan['Kacang Kedelai Eks impor']\n",
    "pivot_jan = pivot_jan.drop(['Mie Instan Indomie Rasa Kari Ayam','Beras','Bawang Putih Impor (Honan)',\n",
    "                            'Bawang Putih Impor (Kating)','Cabe Merah Besar','Cabe Merah Keriting',\n",
    "                           'Cabe Rawit Hijau','Cabe Rawit Merah', 'Kacang Kedelai Eks impor'], axis=1)\n",
    "pivot_jan.columns"
   ]
  },
  {
   "cell_type": "code",
   "execution_count": 141,
   "metadata": {},
   "outputs": [],
   "source": [
    "pivot_feb = pivot_feb.drop(['Beras Premium'], axis=1)\n",
    "pivot_mar = pivot_mar.drop(['Beras Premium'], axis=1)\n",
    "pivot_apr = pivot_apr.drop(['Beras Premium'], axis=1)\n",
    "pivot_mei = pivot_mei.drop(['Beras Premium'], axis=1)\n",
    "pivot_juni = pivot_juni.drop(['Beras Premium'], axis=1)\n",
    "pivot_juli = pivot_juli.drop(['Beras Premium'], axis=1)\n",
    "pivot_agu = pivot_agu.drop(['Beras Premium'], axis=1)\n",
    "pivot_sep = pivot_sep.drop(['Beras Premium'], axis=1)\n",
    "pivot_okt = pivot_okt.drop(['Beras Premium'], axis=1)\n",
    "pivot_nov = pivot_nov.drop(['Beras Premium'], axis=1)\n",
    "pivot_des = pivot_des.drop(['Beras Premium'], axis=1)"
   ]
  },
  {
   "cell_type": "code",
   "execution_count": 142,
   "metadata": {},
   "outputs": [
    {
     "name": "stderr",
     "output_type": "stream",
     "text": [
      "c:\\users\\asus\\appdata\\local\\programs\\python\\python36\\lib\\site-packages\\ipykernel_launcher.py:1: FutureWarning: Sorting because non-concatenation axis is not aligned. A future version\n",
      "of pandas will change to not sort by default.\n",
      "\n",
      "To accept the future behavior, pass 'sort=False'.\n",
      "\n",
      "To retain the current behavior and silence the warning, pass 'sort=True'.\n",
      "\n",
      "  \"\"\"Entry point for launching an IPython kernel.\n"
     ]
    }
   ],
   "source": [
    "frame = pd.concat([pivot_jan, pivot_feb, pivot_mar,pivot_apr,pivot_mei,pivot_juni,pivot_juli,pivot_agu,pivot_sep,pivot_okt,pivot_nov,pivot_des ], axis=0)"
   ]
  },
  {
   "cell_type": "code",
   "execution_count": 143,
   "metadata": {},
   "outputs": [],
   "source": [
    "frame.to_csv('Frame4.csv',index=True)"
   ]
  },
  {
   "cell_type": "code",
   "execution_count": 144,
   "metadata": {},
   "outputs": [],
   "source": [
    "frame.index = pd.to_datetime(frame.index)"
   ]
  },
  {
   "cell_type": "code",
   "execution_count": 145,
   "metadata": {},
   "outputs": [
    {
     "data": {
      "text/plain": [
       "Index(['Ayam Boiler', 'Ayam Kampung', 'Bawang Merah (Medium)',\n",
       "       'Bawang Putih Impor Honan', 'Bawang Putih Impor Kating', 'Beras Medium',\n",
       "       'Cabai Merah Besar', 'Cabai Merah Kriting', 'Cabai Rawit Hijau',\n",
       "       'Cabai Rawit Merah', 'Daging Sapi Impor Beku',\n",
       "       'Daging Sapi Lokal Daging Has Luar (Sirloin)',\n",
       "       'Daging Sapi Lokal Daging Sandung Lamur (Brisket)',\n",
       "       'Daging Sapi Lokal Daging Tetelan', 'Daging Sapi Lokal Has Dalam',\n",
       "       'Daging Sapi Lokal Paha Belakang', 'Garam Beryodium Bata',\n",
       "       'Garam Beryodium Halus', 'Gula Pasir', 'Ikan Kembung', 'Ikan Teri Asin',\n",
       "       'Indomie Rasa Kari Ayam', 'Jagung Pipilan Kecil', 'Kacang Hijau',\n",
       "       'Kacang Kedelai Eks Impor', 'Kacang Kedelai Lokal', 'Kacang Tanah',\n",
       "       'Ketela Pohon', 'Minyak Goreng Bimoli Botol', 'Minyak Goreng Curah',\n",
       "       'Susu Bubuk Kaleng Merk Bendera', 'Susu Bubuk Kaleng Merk Indomilk',\n",
       "       'Susu Kental Manis Kaleng Merk Bendera',\n",
       "       'Susu Kental Manis Kaleng Merk Indomilk', 'Telur Ayam Kampung',\n",
       "       'Telur Ayam Ras', 'Tepung Terigu Segitiga Biru'],\n",
       "      dtype='object', name='komoditi')"
      ]
     },
     "execution_count": 145,
     "metadata": {},
     "output_type": "execute_result"
    }
   ],
   "source": [
    "pivot_feb.columns"
   ]
  },
  {
   "cell_type": "code",
   "execution_count": 146,
   "metadata": {},
   "outputs": [
    {
     "data": {
      "text/plain": [
       "DatetimeIndex(['2018-02-01', '2018-03-01', '2018-04-01', '2018-05-01',\n",
       "               '2018-08-01', '2018-09-01', '2018-10-01', '2018-11-01',\n",
       "               '2018-12-01', '2018-01-15',\n",
       "               ...\n",
       "               '2018-12-14', '2018-12-17', '2018-12-18', '2018-12-19',\n",
       "               '2018-12-20', '2018-12-21', '2018-12-26', '2018-12-27',\n",
       "               '2018-12-28', '2018-12-31'],\n",
       "              dtype='datetime64[ns]', name='tanggal', length=239, freq=None)"
      ]
     },
     "execution_count": 146,
     "metadata": {},
     "output_type": "execute_result"
    }
   ],
   "source": [
    "frame.index"
   ]
  },
  {
   "cell_type": "code",
   "execution_count": null,
   "metadata": {},
   "outputs": [],
   "source": []
  }
 ],
 "metadata": {
  "kernelspec": {
   "display_name": "Python 3",
   "language": "python",
   "name": "python3"
  },
  "language_info": {
   "codemirror_mode": {
    "name": "ipython",
    "version": 3
   },
   "file_extension": ".py",
   "mimetype": "text/x-python",
   "name": "python",
   "nbconvert_exporter": "python",
   "pygments_lexer": "ipython3",
   "version": "3.6.8"
  }
 },
 "nbformat": 4,
 "nbformat_minor": 2
}
